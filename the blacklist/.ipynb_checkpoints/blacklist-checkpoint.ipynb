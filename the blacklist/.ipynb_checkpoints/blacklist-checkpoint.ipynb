{
 "cells": [
  {
   "cell_type": "code",
   "execution_count": 98,
   "metadata": {},
   "outputs": [],
   "source": [
    "import pandas\n",
    "import matplotlib.pyplot as plt\n",
    "import numpy as np\n",
    "from scipy.special import binom\n",
    "import math"
   ]
  },
  {
   "cell_type": "code",
   "execution_count": 19,
   "metadata": {},
   "outputs": [
    {
     "data": {
      "text/html": [
       "<div>\n",
       "<style scoped>\n",
       "    .dataframe tbody tr th:only-of-type {\n",
       "        vertical-align: middle;\n",
       "    }\n",
       "\n",
       "    .dataframe tbody tr th {\n",
       "        vertical-align: top;\n",
       "    }\n",
       "\n",
       "    .dataframe thead th {\n",
       "        text-align: right;\n",
       "    }\n",
       "</style>\n",
       "<table border=\"1\" class=\"dataframe\">\n",
       "  <thead>\n",
       "    <tr style=\"text-align: right;\">\n",
       "      <th></th>\n",
       "      <th>No.overall</th>\n",
       "      <th>No. inseason</th>\n",
       "      <th>Title</th>\n",
       "      <th>Blacklistguide</th>\n",
       "      <th>Directed by</th>\n",
       "      <th>Written by</th>\n",
       "      <th>Original air date</th>\n",
       "      <th>US viewers(millions)</th>\n",
       "    </tr>\n",
       "  </thead>\n",
       "  <tbody>\n",
       "    <tr>\n",
       "      <th>0</th>\n",
       "      <td>1</td>\n",
       "      <td>1</td>\n",
       "      <td>\"Pilot\"</td>\n",
       "      <td>No. 52</td>\n",
       "      <td>Joe Carnahan</td>\n",
       "      <td>Jon Bokenkamp</td>\n",
       "      <td>September 23, 2013</td>\n",
       "      <td>12.58[9]</td>\n",
       "    </tr>\n",
       "    <tr>\n",
       "      <th>1</th>\n",
       "      <td>2</td>\n",
       "      <td>2</td>\n",
       "      <td>\"The Freelancer\"</td>\n",
       "      <td>No. 145</td>\n",
       "      <td>Jace Alexander</td>\n",
       "      <td>Jon Bokenkamp</td>\n",
       "      <td>September 30, 2013</td>\n",
       "      <td>11.35[10]</td>\n",
       "    </tr>\n",
       "    <tr>\n",
       "      <th>2</th>\n",
       "      <td>3</td>\n",
       "      <td>3</td>\n",
       "      <td>\"Wujing\"</td>\n",
       "      <td>No. 84</td>\n",
       "      <td>Michael Watkins</td>\n",
       "      <td>Lukas Reiter</td>\n",
       "      <td>October 7, 2013</td>\n",
       "      <td>11.18[11]</td>\n",
       "    </tr>\n",
       "    <tr>\n",
       "      <th>3</th>\n",
       "      <td>4</td>\n",
       "      <td>4</td>\n",
       "      <td>\"The Stewmaker\"</td>\n",
       "      <td>No. 161</td>\n",
       "      <td>Vince Misiano</td>\n",
       "      <td>Patrick Massett &amp; John Zinman</td>\n",
       "      <td>October 14, 2013</td>\n",
       "      <td>10.93[12]</td>\n",
       "    </tr>\n",
       "    <tr>\n",
       "      <th>4</th>\n",
       "      <td>5</td>\n",
       "      <td>5</td>\n",
       "      <td>\"The Courier\"</td>\n",
       "      <td>No. 85</td>\n",
       "      <td>Nick Gomez</td>\n",
       "      <td>John C. Kelley</td>\n",
       "      <td>October 21, 2013</td>\n",
       "      <td>10.44[13]</td>\n",
       "    </tr>\n",
       "    <tr>\n",
       "      <th>...</th>\n",
       "      <td>...</td>\n",
       "      <td>...</td>\n",
       "      <td>...</td>\n",
       "      <td>...</td>\n",
       "      <td>...</td>\n",
       "      <td>...</td>\n",
       "      <td>...</td>\n",
       "      <td>...</td>\n",
       "    </tr>\n",
       "    <tr>\n",
       "      <th>147</th>\n",
       "      <td>148</td>\n",
       "      <td>15</td>\n",
       "      <td>\"Gordon Kemp\"</td>\n",
       "      <td>No. 158</td>\n",
       "      <td>Andrew McCarthy</td>\n",
       "      <td>Jonathan Shapiro &amp; Lukas Reiter</td>\n",
       "      <td>April 17, 2020</td>\n",
       "      <td>4.83[155]</td>\n",
       "    </tr>\n",
       "    <tr>\n",
       "      <th>148</th>\n",
       "      <td>149</td>\n",
       "      <td>16</td>\n",
       "      <td>\"Nyle Hatcher\"</td>\n",
       "      <td>No. 149</td>\n",
       "      <td>Tessa Blake</td>\n",
       "      <td>Katie Bockes</td>\n",
       "      <td>April 24, 2020</td>\n",
       "      <td>4.83[156]</td>\n",
       "    </tr>\n",
       "    <tr>\n",
       "      <th>149</th>\n",
       "      <td>150</td>\n",
       "      <td>17</td>\n",
       "      <td>\"Brothers\"</td>\n",
       "      <td>NaN</td>\n",
       "      <td>Mahesh Pailoor</td>\n",
       "      <td>Sean Hennen</td>\n",
       "      <td>May 1, 2020</td>\n",
       "      <td>4.50[157]</td>\n",
       "    </tr>\n",
       "    <tr>\n",
       "      <th>150</th>\n",
       "      <td>151</td>\n",
       "      <td>18</td>\n",
       "      <td>\"Roy Cain\"</td>\n",
       "      <td>No. 150</td>\n",
       "      <td>Daniel Willis</td>\n",
       "      <td>Aiah Samba</td>\n",
       "      <td>May 8, 2020</td>\n",
       "      <td>4.55[158]</td>\n",
       "    </tr>\n",
       "    <tr>\n",
       "      <th>151</th>\n",
       "      <td>152</td>\n",
       "      <td>19</td>\n",
       "      <td>\"The Kazanjian Brothers\"</td>\n",
       "      <td>No. 156/157</td>\n",
       "      <td>Michael Caracciolo</td>\n",
       "      <td>Kelli Johnson &amp; Sam Christopher</td>\n",
       "      <td>May 15, 2020</td>\n",
       "      <td>4.13[159]</td>\n",
       "    </tr>\n",
       "  </tbody>\n",
       "</table>\n",
       "<p>152 rows × 8 columns</p>\n",
       "</div>"
      ],
      "text/plain": [
       "     No.overall  No. inseason                     Title Blacklistguide  \\\n",
       "0             1             1                   \"Pilot\"         No. 52   \n",
       "1             2             2          \"The Freelancer\"        No. 145   \n",
       "2             3             3                  \"Wujing\"         No. 84   \n",
       "3             4             4           \"The Stewmaker\"        No. 161   \n",
       "4             5             5             \"The Courier\"         No. 85   \n",
       "..          ...           ...                       ...            ...   \n",
       "147         148            15             \"Gordon Kemp\"        No. 158   \n",
       "148         149            16            \"Nyle Hatcher\"        No. 149   \n",
       "149         150            17                \"Brothers\"            NaN   \n",
       "150         151            18                \"Roy Cain\"        No. 150   \n",
       "151         152            19  \"The Kazanjian Brothers\"    No. 156/157   \n",
       "\n",
       "            Directed by                       Written by   Original air date  \\\n",
       "0          Joe Carnahan                    Jon Bokenkamp  September 23, 2013   \n",
       "1        Jace Alexander                    Jon Bokenkamp  September 30, 2013   \n",
       "2       Michael Watkins                     Lukas Reiter     October 7, 2013   \n",
       "3         Vince Misiano    Patrick Massett & John Zinman    October 14, 2013   \n",
       "4            Nick Gomez                   John C. Kelley    October 21, 2013   \n",
       "..                  ...                              ...                 ...   \n",
       "147     Andrew McCarthy  Jonathan Shapiro & Lukas Reiter      April 17, 2020   \n",
       "148         Tessa Blake                     Katie Bockes      April 24, 2020   \n",
       "149      Mahesh Pailoor                      Sean Hennen         May 1, 2020   \n",
       "150       Daniel Willis                       Aiah Samba         May 8, 2020   \n",
       "151  Michael Caracciolo  Kelli Johnson & Sam Christopher        May 15, 2020   \n",
       "\n",
       "    US viewers(millions)  \n",
       "0               12.58[9]  \n",
       "1              11.35[10]  \n",
       "2              11.18[11]  \n",
       "3              10.93[12]  \n",
       "4              10.44[13]  \n",
       "..                   ...  \n",
       "147            4.83[155]  \n",
       "148            4.83[156]  \n",
       "149            4.50[157]  \n",
       "150            4.55[158]  \n",
       "151            4.13[159]  \n",
       "\n",
       "[152 rows x 8 columns]"
      ]
     },
     "execution_count": 19,
     "metadata": {},
     "output_type": "execute_result"
    }
   ],
   "source": [
    "df = pandas.read_csv(\"episode_data.csv\")\n",
    "df"
   ]
  },
  {
   "cell_type": "code",
   "execution_count": 44,
   "metadata": {},
   "outputs": [],
   "source": [
    "tuples = []\n",
    "for idx, item in enumerate(df[\"Blacklistguide\"]):\n",
    "    parts = str(item).split()\n",
    "    try:\n",
    "        tuples.append((idx+1, int(parts[1])))\n",
    "    except:\n",
    "        if \"nan\" == parts[0]:\n",
    "            tuples.append((idx+1, 0))  \n",
    "        elif \"/\" in parts[1]:\n",
    "            for num in parts[1].split(\"/\"):\n",
    "                tuples.append((idx+1, int(num)))\n",
    "        elif \"-\" in parts[1]:\n",
    "            nums = parts[1].split(\"-\")\n",
    "            for num in range(int(nums[0]), int(nums[1])+1):\n",
    "                tuples.append((idx+1, num))  \n",
    "                \n",
    "a = np.array(tuples)"
   ]
  },
  {
   "cell_type": "code",
   "execution_count": 76,
   "metadata": {},
   "outputs": [],
   "source": [
    "Ns = []\n",
    "maxs = []\n",
    "for i in range(a[:,0].max()):\n",
    "    Ns.append((a[:, 0] <= i + 1).sum())\n",
    "    maxs.append(a[:i+1, 1].max())\n",
    "    \n",
    "Ns = np.array(Ns)\n",
    "maxs = np.array(maxs)"
   ]
  },
  {
   "cell_type": "code",
   "execution_count": 77,
   "metadata": {},
   "outputs": [],
   "source": [
    "pred = maxs + maxs / Ns -1"
   ]
  },
  {
   "cell_type": "code",
   "execution_count": 84,
   "metadata": {},
   "outputs": [
    {
     "data": {
      "text/plain": [
       "[<matplotlib.lines.Line2D at 0x1c6c1d4b148>]"
      ]
     },
     "execution_count": 84,
     "metadata": {},
     "output_type": "execute_result"
    },
    {
     "data": {
      "image/png": "[encoded data removed]",
      "text/plain": [
       "<Figure size 432x288 with 1 Axes>"
      ]
     },
     "metadata": {
      "needs_background": "light"
     },
     "output_type": "display_data"
    }
   ],
   "source": [
    "plt.plot(pred)"
   ]
  },
  {
   "cell_type": "code",
   "execution_count": 99,
   "metadata": {},
   "outputs": [],
   "source": [
    "def P(N_seen, max_seen, N_total=300):\n",
    "    res = np.zeros(N_total)\n",
    "    for i in range(max_seen, N_total):\n",
    "        res[i] = ((N_seen - 1) / N_seen) * binom(max_seen - 1, N_seen - 1) / binom(i, N_seen)\n",
    "        \n",
    "    return res\n",
    "\n",
    "def mu(N_seen, max_seen):\n",
    "    return max_seen + (max_seen - 1)/(N_seen - 2) - 1\n",
    "\n",
    "def sigma(N_seen, max_seen):\n",
    "    return math.sqrt((N_seen - 1) * (max_seen - 1) * (max_seen - N_seen + 1) / ((N_seen - 3) * (N_seen - 2)**2))"
   ]
  },
  {
   "cell_type": "code",
   "execution_count": 102,
   "metadata": {},
   "outputs": [
    {
     "data": {
      "text/plain": [
       "<matplotlib.lines.Line2D at 0x1c6d858c648>"
      ]
     },
     "execution_count": 102,
     "metadata": {},
     "output_type": "execute_result"
    },
    {
     "data": {
      "image/png": "[encoded data removed]",
      "text/plain": [
       "<Figure size 432x288 with 1 Axes>"
      ]
     },
     "metadata": {
      "needs_background": "light"
     },
     "output_type": "display_data"
    }
   ],
   "source": [
    "idx = 100\n",
    "plt.plot(P(Ns[idx], maxs[idx]))\n",
    "plt.axvline(mu(Ns[idx], maxs[idx]), color=\"C1\")\n",
    "plt.axvline(mu(Ns[idx], maxs[idx]) + sigma(Ns[idx], maxs[idx]), color=\"C1\", ls=\"--\")\n",
    "plt.axvline(mu(Ns[idx], maxs[idx]) - sigma(Ns[idx], maxs[idx]), color=\"C1\", ls=\"--\")"
   ]
  },
  {
   "cell_type": "code",
   "execution_count": null,
   "metadata": {},
   "outputs": [],
   "source": []
  }
 ],
 "metadata": {
  "kernelspec": {
   "display_name": "Python 3",
   "language": "python",
   "name": "python3"
  },
  "language_info": {
   "codemirror_mode": {
    "name": "ipython",
    "version": 3
   },
   "file_extension": ".py",
   "mimetype": "text/x-python",
   "name": "python",
   "nbconvert_exporter": "python",
   "pygments_lexer": "ipython3",
   "version": "3.7.5"
  }
 },
 "nbformat": 4,
 "nbformat_minor": 2
}
